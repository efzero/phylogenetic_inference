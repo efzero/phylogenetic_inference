{
 "cells": [
  {
   "cell_type": "code",
   "execution_count": 3,
   "metadata": {},
   "outputs": [],
   "source": [
    "import numpy as np\n",
    "import pandas as pd\n"
   ]
  },
  {
   "cell_type": "code",
   "execution_count": 59,
   "metadata": {},
   "outputs": [],
   "source": [
    "def markov_chain_forward(n, states):\n",
    "    k = np.random.randint(low= 1, high = n-1)\n",
    "    swap1 = np.random.randint(low=0, high = 2) ###output 0, 1\n",
    "    swap2 = np.random.randint(low=0, high = 2) ###output 0, 1\n",
    "    ##swap from left to right should be good\n",
    "    try:\n",
    "        ####k is original k\n",
    "        #### states[k-1]: kth state, states[k]: k+1 state \n",
    "        \n",
    "        #max k can be n-2\n",
    "        if states[k][swap2] < k: \n",
    "\n",
    "            states[k-1][swap1], states[k][swap2] = states[k][swap2], states[k-1][swap1]\n",
    "            return True\n",
    "        else:\n",
    "\n",
    "            return False\n",
    "    except:\n",
    "\n",
    "            states[k-1][swap1], states[k][swap2] = states[k][swap2], states[k-1][swap1]\n",
    "            return True\n"
   ]
  },
  {
   "cell_type": "code",
   "execution_count": 107,
   "metadata": {
    "scrolled": true
   },
   "outputs": [
    {
     "data": {
      "text/plain": [
       "[['A', 'A'], ['C', 'T'], [1, 2]]"
      ]
     },
     "execution_count": 107,
     "metadata": {},
     "output_type": "execute_result"
    }
   ],
   "source": [
    "n = 3\n",
    "# states = [['C', 'C'],['A', 'G'], ['T', 1], ['T', 2], ['A', 4], [3,5], ['A', 6]]\n",
    "coalescent_times = [.15, .6, 2]\n",
    "states = [['A', 'A'],['C', 'T'], [1, 2]]\n",
    "\n",
    "# coalescent_times = [2,5,6,8,13,19,29]\n",
    "mmap = {'A':0, 'C':1, 'G':2, 'T':3}\n",
    "q = np.ones((4,4))/3\n",
    "for i in range(4):\n",
    "    q[i,i]= -1\n",
    "evals, evecs = la.eig(q)\n",
    "evec_inv = la.inv(evecs)\n",
    "\n",
    "states"
   ]
  },
  {
   "cell_type": "code",
   "execution_count": 139,
   "metadata": {
    "scrolled": true
   },
   "outputs": [
    {
     "name": "stdout",
     "output_type": "stream",
     "text": [
      "0 loop\n",
      "[['C', 'T'], ['A', 'A'], [1, 2]]\n",
      "0 iter\n",
      "1 iter\n",
      "2 iter\n",
      "3 iter\n",
      "4 iter\n",
      "1 loop\n",
      "[['A', 'C'], ['G', 'T'], [1, 2]]\n",
      "0 iter\n",
      "1 iter\n",
      "2 iter\n",
      "3 iter\n",
      "4 iter\n",
      "2 loop\n",
      "[['T', 'A'], ['T', 'G'], [1, 2]]\n",
      "0 iter\n",
      "1 iter\n",
      "2 iter\n",
      "3 iter\n",
      "4 iter\n",
      "3 loop\n",
      "[['G', 'C'], ['C', 'C'], [1, 2]]\n",
      "0 iter\n",
      "1 iter\n",
      "2 iter\n",
      "3 iter\n",
      "4 iter\n",
      "4 loop\n",
      "[['C', 'C'], ['G', 'C'], [1, 2]]\n",
      "0 iter\n",
      "1 iter\n",
      "2 iter\n",
      "3 iter\n",
      "4 iter\n",
      "5 loop\n",
      "[['T', 'G'], ['C', 'C'], [1, 2]]\n",
      "0 iter\n",
      "1 iter\n",
      "2 iter\n",
      "3 iter\n",
      "4 iter\n",
      "6 loop\n",
      "[['C', 'C'], ['C', 'A'], [1, 2]]\n",
      "0 iter\n",
      "1 iter\n",
      "2 iter\n",
      "3 iter\n",
      "4 iter\n",
      "7 loop\n",
      "[['T', 'G'], ['A', 'A'], [1, 2]]\n",
      "0 iter\n",
      "1 iter\n",
      "2 iter\n",
      "3 iter\n",
      "4 iter\n",
      "8 loop\n",
      "[['A', 'G'], ['A', 'A'], [1, 2]]\n",
      "0 iter\n",
      "1 iter\n",
      "2 iter\n",
      "3 iter\n",
      "4 iter\n",
      "9 loop\n",
      "[['T', 'A'], ['C', 'C'], [1, 2]]\n",
      "0 iter\n",
      "1 iter\n",
      "2 iter\n",
      "3 iter\n",
      "4 iter\n",
      "10 loop\n",
      "[['G', 'T'], ['A', 'T'], [1, 2]]\n",
      "0 iter\n",
      "1 iter\n",
      "2 iter\n",
      "3 iter\n",
      "4 iter\n",
      "11 loop\n",
      "[['A', 'C'], ['G', 'C'], [1, 2]]\n",
      "0 iter\n",
      "1 iter\n",
      "2 iter\n",
      "3 iter\n",
      "4 iter\n",
      "12 loop\n",
      "[['A', 'T'], ['G', 'T'], [1, 2]]\n",
      "0 iter\n",
      "1 iter\n",
      "2 iter\n",
      "3 iter\n",
      "4 iter\n",
      "13 loop\n",
      "[['T', 'C'], ['G', 'A'], [1, 2]]\n",
      "0 iter\n",
      "1 iter\n",
      "2 iter\n",
      "3 iter\n",
      "4 iter\n",
      "14 loop\n",
      "[['C', 'C'], ['G', 'A'], [1, 2]]\n",
      "0 iter\n",
      "1 iter\n",
      "2 iter\n",
      "3 iter\n",
      "4 iter\n",
      "15 loop\n",
      "[['T', 'A'], ['T', 'G'], [1, 2]]\n",
      "0 iter\n",
      "1 iter\n",
      "2 iter\n",
      "3 iter\n",
      "4 iter\n",
      "16 loop\n",
      "[['A', 'T'], ['A', 'T'], [1, 2]]\n",
      "0 iter\n",
      "1 iter\n",
      "2 iter\n",
      "3 iter\n",
      "4 iter\n",
      "17 loop\n",
      "[['T', 'G'], ['A', 'A'], [1, 2]]\n",
      "0 iter\n",
      "1 iter\n",
      "2 iter\n",
      "3 iter\n",
      "4 iter\n",
      "18 loop\n",
      "[['A', 'C'], ['G', 'G'], [1, 2]]\n",
      "0 iter\n",
      "1 iter\n",
      "2 iter\n",
      "3 iter\n",
      "4 iter\n",
      "19 loop\n",
      "[['G', 'C'], ['G', 'A'], [1, 2]]\n",
      "0 iter\n",
      "1 iter\n",
      "2 iter\n",
      "3 iter\n",
      "4 iter\n",
      "20 loop\n",
      "[['A', 'G'], ['G', 'C'], [1, 2]]\n",
      "0 iter\n",
      "1 iter\n",
      "2 iter\n",
      "3 iter\n",
      "4 iter\n",
      "21 loop\n",
      "[['T', 'G'], ['A', 'T'], [1, 2]]\n",
      "0 iter\n",
      "1 iter\n",
      "2 iter\n",
      "3 iter\n",
      "4 iter\n",
      "22 loop\n",
      "[['T', 'C'], ['T', 'C'], [1, 2]]\n",
      "0 iter\n",
      "1 iter\n",
      "2 iter\n",
      "3 iter\n",
      "4 iter\n",
      "23 loop\n",
      "[['G', 'C'], ['C', 'A'], [1, 2]]\n",
      "0 iter\n",
      "1 iter\n",
      "2 iter\n",
      "3 iter\n",
      "4 iter\n",
      "24 loop\n",
      "[['A', 'T'], ['T', 'T'], [1, 2]]\n",
      "0 iter\n",
      "1 iter\n",
      "2 iter\n",
      "3 iter\n",
      "4 iter\n",
      "25 loop\n",
      "[['C', 'T'], ['C', 'G'], [1, 2]]\n",
      "0 iter\n",
      "1 iter\n",
      "2 iter\n",
      "3 iter\n",
      "4 iter\n",
      "26 loop\n",
      "[['T', 'C'], ['A', 'G'], [1, 2]]\n",
      "0 iter\n",
      "1 iter\n",
      "2 iter\n",
      "3 iter\n",
      "4 iter\n",
      "27 loop\n",
      "[['G', 'C'], ['T', 'T'], [1, 2]]\n",
      "0 iter\n",
      "1 iter\n",
      "2 iter\n",
      "3 iter\n",
      "4 iter\n",
      "28 loop\n",
      "[['A', 'A'], ['C', 'T'], [1, 2]]\n",
      "0 iter\n",
      "1 iter\n",
      "2 iter\n",
      "3 iter\n",
      "4 iter\n",
      "29 loop\n",
      "[['G', 'T'], ['C', 'T'], [1, 2]]\n",
      "0 iter\n",
      "1 iter\n",
      "2 iter\n",
      "3 iter\n",
      "4 iter\n",
      "30 loop\n",
      "[['T', 'G'], ['C', 'C'], [1, 2]]\n",
      "0 iter\n",
      "1 iter\n",
      "2 iter\n",
      "3 iter\n",
      "4 iter\n",
      "31 loop\n",
      "[['C', 'C'], ['C', 'T'], [1, 2]]\n",
      "0 iter\n",
      "1 iter\n",
      "2 iter\n",
      "3 iter\n",
      "4 iter\n",
      "32 loop\n",
      "[['C', 'G'], ['G', 'A'], [1, 2]]\n",
      "0 iter\n",
      "1 iter\n",
      "2 iter\n",
      "3 iter\n",
      "4 iter\n",
      "33 loop\n",
      "[['A', 'A'], ['T', 'C'], [1, 2]]\n",
      "0 iter\n",
      "1 iter\n",
      "2 iter\n",
      "3 iter\n",
      "4 iter\n",
      "34 loop\n",
      "[['T', 'C'], ['G', 'A'], [1, 2]]\n",
      "0 iter\n",
      "1 iter\n",
      "2 iter\n",
      "3 iter\n",
      "4 iter\n",
      "35 loop\n",
      "[['T', 'A'], ['T', 'G'], [1, 2]]\n",
      "0 iter\n",
      "1 iter\n",
      "2 iter\n",
      "3 iter\n",
      "4 iter\n",
      "36 loop\n",
      "[['G', 'A'], ['G', 'C'], [1, 2]]\n",
      "0 iter\n",
      "1 iter\n",
      "2 iter\n",
      "3 iter\n",
      "4 iter\n",
      "37 loop\n",
      "[['C', 'G'], ['A', 'A'], [1, 2]]\n",
      "0 iter\n",
      "1 iter\n",
      "2 iter\n",
      "3 iter\n",
      "4 iter\n",
      "38 loop\n",
      "[['G', 'A'], ['G', 'C'], [1, 2]]\n",
      "0 iter\n",
      "1 iter\n",
      "2 iter\n",
      "3 iter\n",
      "4 iter\n",
      "39 loop\n",
      "[['T', 'A'], ['T', 'G'], [1, 2]]\n",
      "0 iter\n",
      "1 iter\n",
      "2 iter\n",
      "3 iter\n",
      "4 iter\n",
      "40 loop\n",
      "[['T', 'A'], ['T', 'A'], [1, 2]]\n",
      "0 iter\n",
      "1 iter\n",
      "2 iter\n",
      "3 iter\n",
      "4 iter\n",
      "41 loop\n",
      "[['A', 'T'], ['G', 'G'], [1, 2]]\n",
      "0 iter\n",
      "1 iter\n",
      "2 iter\n",
      "3 iter\n",
      "4 iter\n",
      "42 loop\n",
      "[['G', 'T'], ['A', 'A'], [1, 2]]\n",
      "0 iter\n",
      "1 iter\n",
      "2 iter\n",
      "3 iter\n",
      "4 iter\n",
      "43 loop\n",
      "[['C', 'G'], ['G', 'G'], [1, 2]]\n",
      "0 iter\n",
      "1 iter\n",
      "2 iter\n",
      "3 iter\n",
      "4 iter\n",
      "44 loop\n",
      "[['C', 'C'], ['G', 'G'], [1, 2]]\n",
      "0 iter\n",
      "1 iter\n",
      "2 iter\n",
      "3 iter\n",
      "4 iter\n",
      "45 loop\n",
      "[['G', 'A'], ['A', 'G'], [1, 2]]\n",
      "0 iter\n",
      "1 iter\n",
      "2 iter\n",
      "3 iter\n",
      "4 iter\n",
      "46 loop\n",
      "[['C', 'A'], ['T', 'A'], [1, 2]]\n",
      "0 iter\n",
      "1 iter\n",
      "2 iter\n",
      "3 iter\n",
      "4 iter\n",
      "47 loop\n",
      "[['T', 'A'], ['T', 'G'], [1, 2]]\n",
      "0 iter\n",
      "1 iter\n",
      "2 iter\n",
      "3 iter\n",
      "4 iter\n",
      "48 loop\n",
      "[['G', 'G'], ['T', 'C'], [1, 2]]\n",
      "0 iter\n",
      "1 iter\n",
      "2 iter\n",
      "3 iter\n",
      "4 iter\n",
      "49 loop\n",
      "[['C', 'G'], ['C', 'A'], [1, 2]]\n",
      "0 iter\n",
      "1 iter\n",
      "2 iter\n",
      "3 iter\n",
      "4 iter\n"
     ]
    }
   ],
   "source": [
    "l = []\n",
    "simulations = []\n",
    "from copy import deepcopy\n",
    "for i in range(50):\n",
    "    states[0][0] = np.random.choice(['A','C','G','T'])\n",
    "    states[0][1] = np.random.choice(['A','C','G','T'])\n",
    "    states[1][0] = np.random.choice(['A','C','G','T'])\n",
    "    states[1][1] = np.random.choice(['A','C','G','T'])\n",
    "    \n",
    "    print(i, 'loop')\n",
    "    print(states)\n",
    "    s = deepcopy(states)\n",
    "    l.append(likelihood(s, 3))\n",
    "    p = 0\n",
    "    for j in range(100000):\n",
    "        if j %20000 == 0:\n",
    "            print(j//20000, 'iter')\n",
    "        p += mc_probability(s, coalescent_times)[0]\n",
    "    simulations.append(p/100000)\n",
    "#         markov_chain_forward(n, states)\n",
    "    "
   ]
  },
  {
   "cell_type": "code",
   "execution_count": 145,
   "metadata": {},
   "outputs": [],
   "source": [
    "l = np.array(l)"
   ]
  },
  {
   "cell_type": "code",
   "execution_count": 146,
   "metadata": {},
   "outputs": [],
   "source": [
    "simulations = np.array(simulations)"
   ]
  },
  {
   "cell_type": "code",
   "execution_count": 191,
   "metadata": {
    "scrolled": true
   },
   "outputs": [
    {
     "data": {
      "text/plain": [
       "Text(0,0.5,'simulated monte carlo probability')"
      ]
     },
     "execution_count": 191,
     "metadata": {},
     "output_type": "execute_result"
    },
    {
     "data": {
      "image/png": "[encoded data removed]",
      "text/plain": [
       "<Figure size 432x288 with 1 Axes>"
      ]
     },
     "metadata": {},
     "output_type": "display_data"
    }
   ],
   "source": [
    "import matplotlib.pyplot as plt\n",
    "%matplotlib inline\n",
    "plt.scatter(np.log(l), np.log(simulations))\n",
    "plt.xlabel('log likelihood')\n",
    "plt.ylabel('simulated monte carlo probability')"
   ]
  },
  {
   "cell_type": "code",
   "execution_count": 192,
   "metadata": {},
   "outputs": [
    {
     "data": {
      "text/plain": [
       "array([[1.        , 0.99583784],\n",
       "       [0.99583784, 1.        ]])"
      ]
     },
     "execution_count": 192,
     "metadata": {},
     "output_type": "execute_result"
    }
   ],
   "source": [
    "import numpy as np\n",
    "np.corrcoef(np.log(l), np.log(simulations))"
   ]
  },
  {
   "cell_type": "code",
   "execution_count": 193,
   "metadata": {},
   "outputs": [
    {
     "name": "stdout",
     "output_type": "stream",
     "text": [
      "0.9983294680025736 r_squared\n"
     ]
    }
   ],
   "source": [
    "r_squared = 1 - np.sum((np.array(l) - np.array(simulations))**2)/np.sum((np.array(simulations) - np.mean(np.array(simulations)))**2)\n",
    "\n",
    "print(r_squared, 'r_squared')"
   ]
  },
  {
   "cell_type": "code",
   "execution_count": 7,
   "metadata": {
    "scrolled": true
   },
   "outputs": [
    {
     "data": {
      "text/plain": [
       "[['l3', 'l3'],\n",
       " ['l1', 'l2'],\n",
       " ['l1', 1],\n",
       " ['l1', 2],\n",
       " ['l2', 4],\n",
       " [3, 'l2'],\n",
       " [5, 6]]"
      ]
     },
     "execution_count": 7,
     "metadata": {},
     "output_type": "execute_result"
    }
   ],
   "source": [
    "states\n",
    "\n",
    "\n",
    "### accelerate likelihood computation by changing a minor part of the tree."
   ]
  },
  {
   "cell_type": "code",
   "execution_count": 8,
   "metadata": {},
   "outputs": [],
   "source": [
    "# # np.random.randint()\n",
    "# coalescent_times = [2,5,6,8,13,19,29]\n",
    "Mrbayes"
   ]
  },
  {
   "cell_type": "code",
   "execution_count": 9,
   "metadata": {},
   "outputs": [
    {
     "data": {
      "text/plain": [
       "1"
      ]
     },
     "execution_count": 9,
     "metadata": {},
     "output_type": "execute_result"
    }
   ],
   "source": [
    "# Pij(1, evecs, evals, evec_inv)\n",
    "np.random.choice([0,1,2,3], p =[.2,.3,.4,.1])"
   ]
  },
  {
   "cell_type": "code",
   "execution_count": 138,
   "metadata": {},
   "outputs": [],
   "source": [
    "import numpy.linalg as la\n",
    "def Pij(t, evecs, evals, evec_inv):\n",
    "    return evecs@np.diag(np.exp(evals*t))@evec_inv\n",
    "    \n",
    "def mc_probability(states, coalescent_times):\n",
    "    mmap = {'A':0, 'C':1, 'G':2, 'T':3}\n",
    "    global labels\n",
    "    labels = [1]\n",
    "    root_label = np.zeros(4)\n",
    "    root_label[np.random.choice([0,1,2,3])] = 1\n",
    "    mc_probability_recurse(states, coalescent_times, len(states), root_label)\n",
    "    return labels\n",
    "       \n",
    "def mc_probability_recurse(states, coalescent_times, subroot, subroot_label):\n",
    "    ###simulate from subroot with a fixed label\n",
    "    \n",
    "    left_child, right_child = states[subroot-1][0], states[subroot-1][1]\n",
    "    \n",
    "    if type(left_child) not in [int, float]:\n",
    "        left_time = coalescent_times[subroot-1]\n",
    "        prob_left = Pij(left_time, evecs, evals, evec_inv)@subroot_label\n",
    "        simulated_leaf = np.random.choice(['A','C','G','T'], p = prob_left)\n",
    "        if simulated_leaf == left_child:\n",
    "            labels[0] = labels[0]*1\n",
    "        else:\n",
    "            labels[0] = 0\n",
    "        \n",
    "#         labels.add(left_child)\n",
    "    else:\n",
    "        left_time = coalescent_times[subroot-1] - coalescent_times[left_child-1]\n",
    "        prob_left = Pij(left_time, evecs, evals, evec_inv)@subroot_label\n",
    "        newlabelindex = np.random.choice([0,1,2,3], p = prob_left)\n",
    "        newlabel = np.array([0,0,0,0])\n",
    "        newlabel[newlabelindex] = 1\n",
    "        mc_probability_recurse(states, coalescent_times, left_child, newlabel)\n",
    "\n",
    "    if type(right_child) not in [int, float]:\n",
    "        right_time = coalescent_times[subroot-1]\n",
    "        prob_right = Pij(right_time, evecs, evals, evec_inv)@subroot_label\n",
    "        \n",
    "        simulated_leaf = np.random.choice(['A','C','G','T'], p = prob_right)\n",
    "        if simulated_leaf == right_child:\n",
    "            labels[0] = labels[0]*1\n",
    "        else:\n",
    "            labels[0] = 0    \n",
    "#         labels.add(left_child)\n",
    "    else:\n",
    "        right_time = coalescent_times[subroot-1] - coalescent_times[right_child-1]\n",
    "        prob_right = Pij(right_time, evecs, evals, evec_inv)@subroot_label\n",
    "        newlabelindex = np.random.choice([0,1,2,3], p = prob_right)\n",
    "        newlabel = np.array([0,0,0,0])\n",
    "        newlabel[newlabelindex] = 1\n",
    "        mc_probability_recurse(states, coalescent_times, right_child, newlabel)\n",
    "        return\n",
    "        \n",
    "    \n",
    "    \n",
    "    \n",
    "\n",
    "def compute_likelihood(states, site, subroot):\n",
    "\n",
    "    left_child, right_child = states[subroot-1][0], states[subroot-1][1]\n",
    "    left_child_likelihood, right_child_likelihood = 0,0\n",
    "    left_t, right_t = -1,-1\n",
    "    \n",
    "\n",
    "    if type(left_child) not in [int, float]:\n",
    "        init_state = np.zeros(4)\n",
    "        init_state[mmap[left_child]] = 1\n",
    "        left_child_likelihood = init_state\n",
    "        left_t = coalescent_times[subroot-1]\n",
    "    \n",
    "    else:   \n",
    "        left_child_likelihood = compute_likelihood(states, site, left_child)\n",
    "        left_t = coalescent_times[subroot-1] - coalescent_times[left_child-1] \n",
    "        \n",
    "    if type(right_child) not in [int, float]:\n",
    "        init_state = np.zeros(4)\n",
    "        init_state[mmap[right_child]] = 1\n",
    "        right_t = coalescent_times[subroot-1]\n",
    "        right_child_likelihood = init_state\n",
    "        \n",
    "        ###gradient corresponding to coalescent time?\n",
    "        ###have the\n",
    "    else:\n",
    "        \n",
    "        right_child_likelihood = compute_likelihood(states, site, right_child)\n",
    "        right_t = coalescent_times[subroot-1] - coalescent_times[right_child-1]   \n",
    "    likelihood = (Pij(left_t, evecs, evals, evec_inv)@left_child_likelihood) *\\\n",
    "    (Pij(right_t, evecs, evals, evec_inv)@right_child_likelihood)\n",
    "    return likelihood\n",
    "\n",
    "# mmap = {'A':0, 'C':1, 'G':2, 'T':3}\n",
    "# q = np.ones((4,4))/3\n",
    "# for i in range(4):\n",
    "#     q[i,i]= -1\n",
    "# evals, evecs = la.eig(q)\n",
    "# evec_inv = la.inv(evecs)\n",
    "\n",
    "\n",
    "def likelihood(states, root):\n",
    "    likelihood_vec = compute_likelihood(states, 0, root)\n",
    "    final_likelihood = 0.25*np.sum(likelihood_vec)\n",
    "    return final_likelihood"
   ]
  },
  {
   "cell_type": "code",
   "execution_count": 47,
   "metadata": {},
   "outputs": [
    {
     "data": {
      "text/plain": [
       "0.0039049585718129005"
      ]
     },
     "execution_count": 47,
     "metadata": {},
     "output_type": "execute_result"
    }
   ],
   "source": [
    "coalescent_times = [3, 5, 9]\n",
    "states = [['A', 'C'],['G', 'G'], [1, 2]]\n",
    "likelihood(states, 3)"
   ]
  },
  {
   "cell_type": "code",
   "execution_count": 12,
   "metadata": {},
   "outputs": [
    {
     "data": {
      "text/plain": [
       "-5.545753610431291"
      ]
     },
     "execution_count": 12,
     "metadata": {},
     "output_type": "execute_result"
    }
   ],
   "source": [
    "import numpy as np\n",
    "np.log(0.003904)"
   ]
  },
  {
   "cell_type": "markdown",
   "metadata": {},
   "source": [
    "### Start MCMC sampling posterior"
   ]
  },
  {
   "cell_type": "code",
   "execution_count": 104,
   "metadata": {},
   "outputs": [
    {
     "data": {
      "text/plain": [
       "1.5479569532151385e-05"
      ]
     },
     "execution_count": 104,
     "metadata": {},
     "output_type": "execute_result"
    }
   ],
   "source": [
    "coalescent_times = [2,5,6,8,13,19,29]\n",
    "states = [['G', 'G'],['C', 'A'], ['C', 1], ['C', 2], ['A', 4], [3,5], ['A', 6]]\n",
    "likelihood(states, 7)"
   ]
  },
  {
   "cell_type": "code",
   "execution_count": 195,
   "metadata": {},
   "outputs": [
    {
     "data": {
      "text/plain": [
       "array([[-1.        ,  0.33333333,  0.33333333,  0.33333333],\n",
       "       [ 0.33333333, -1.        ,  0.33333333,  0.33333333],\n",
       "       [ 0.33333333,  0.33333333, -1.        ,  0.33333333],\n",
       "       [ 0.33333333,  0.33333333,  0.33333333, -1.        ]])"
      ]
     },
     "execution_count": 195,
     "metadata": {},
     "output_type": "execute_result"
    }
   ],
   "source": [
    "# np.random.rand()\n",
    "# mu = 0.5\n",
    "# q*mu\n",
    "q"
   ]
  },
  {
   "cell_type": "code",
   "execution_count": 175,
   "metadata": {},
   "outputs": [
    {
     "name": "stdout",
     "output_type": "stream",
     "text": [
      "0.7756558415338377\n"
     ]
    }
   ],
   "source": [
    "import copy\n",
    "states = [['G', 'G'],['C', 'A'], ['C', 1], ['C', 2], ['A', 4], [3,5], ['A', 6]]\n",
    "coalescent_times = [.2,.5,.6,.8,1.3,1.9,2.9]\n",
    "posterior_sampled = []\n",
    "n=7 ######n = 8 actually, here n = 7 means that there are 7 coalescent events\n",
    "prob_avg = 0\n",
    "for i in range(20000):\n",
    "    prev_state = copy.deepcopy(states)\n",
    "    state_flag = markov_chain_forward(n+1,states)\n",
    "    while not state_flag:\n",
    "        state_flag = markov_chain_forward(n+1,states)\n",
    "    new_state = copy.deepcopy(states)\n",
    "    prev_likelihood = likelihood(list(prev_state), n)\n",
    "    new_likelihood = likelihood(list(new_state), n)\n",
    "    acceptance_prob = min(new_likelihood/prev_likelihood, 1)\n",
    "    prob_avg += acceptance_prob\n",
    "    U = np.random.rand()\n",
    "    if U < acceptance_prob:\n",
    "        ###accept\n",
    "        if i > 10000:\n",
    "            posterior_sampled.append(copy.deepcopy(states))\n",
    "            states = copy.deepcopy(new_state)\n",
    "    else:\n",
    "        ###reject\n",
    "        states = copy.deepcopy(prev_state)\n",
    "print(prob_avg/20000)"
   ]
  },
  {
   "cell_type": "code",
   "execution_count": 176,
   "metadata": {},
   "outputs": [
    {
     "name": "stdout",
     "output_type": "stream",
     "text": [
      "7707\n"
     ]
    }
   ],
   "source": [
    "# for tree in posterior_sampled:\n",
    "print(len(posterior_sampled))\n",
    "    "
   ]
  },
  {
   "cell_type": "code",
   "execution_count": 178,
   "metadata": {},
   "outputs": [],
   "source": [
    "prior_sampled = []\n",
    "states = [['G', 'G'],['C', 'A'], ['C', 1], ['C', 2], ['A', 4], [3,5], ['A', 6]]\n",
    "coalescent_times = [.2,.5,.6,.8,1.3,1.9,2.9]\n",
    "for i in range(7707):\n",
    "    prev_state = copy.deepcopy(states)\n",
    "    prior_sampled.append(prev_state)\n",
    "    state_flag = markov_chain_forward(n+1,states)\n",
    "    while not state_flag:\n",
    "        state_flag = markov_chain_forward(n+1,states)\n",
    "    "
   ]
  },
  {
   "cell_type": "code",
   "execution_count": 182,
   "metadata": {},
   "outputs": [
    {
     "name": "stdout",
     "output_type": "stream",
     "text": [
      "1 iter_\n",
      "2 iter_\n",
      "3 iter_\n",
      "4 iter_\n",
      "5 iter_\n",
      "6 iter_\n",
      "7 iter_\n"
     ]
    }
   ],
   "source": [
    "posterior_ll = []\n",
    "ct = 0\n",
    "for tree in posterior_sampled:\n",
    "    ct += 1\n",
    "    posterior_ll.append(likelihood(tree, 7))\n",
    "    if ct %1000==0:\n",
    "        print(ct//1000, 'iter_')"
   ]
  },
  {
   "cell_type": "code",
   "execution_count": 183,
   "metadata": {},
   "outputs": [],
   "source": [
    "prior_ll = []\n",
    "for tree in prior_sampled:\n",
    "    prior_ll.append(likelihood(tree, 7))\n"
   ]
  },
  {
   "cell_type": "code",
   "execution_count": 184,
   "metadata": {},
   "outputs": [],
   "source": [
    "posterior_ll = np.array(posterior_ll)\n",
    "prior_ll = np.array(prior_ll)"
   ]
  },
  {
   "cell_type": "code",
   "execution_count": 190,
   "metadata": {},
   "outputs": [
    {
     "data": {
      "text/plain": [
       "Text(0.5,0,'log likelihood')"
      ]
     },
     "execution_count": 190,
     "metadata": {},
     "output_type": "execute_result"
    },
    {
     "data": {
      "image/png": "[encoded data removed]",
      "text/plain": [
       "<Figure size 432x288 with 1 Axes>"
      ]
     },
     "metadata": {},
     "output_type": "display_data"
    }
   ],
   "source": [
    "import seaborn as sns\n",
    "sns.set()\n",
    "plt.hist(np.log(posterior_ll),alpha = .5, label = 'posterior sampled')\n",
    "plt.hist(np.log(prior_ll), alpha = .5, label = 'prior sampled')\n",
    "plt.legend()\n",
    "plt.xlabel('log likelihood')"
   ]
  },
  {
   "cell_type": "code",
   "execution_count": 200,
   "metadata": {},
   "outputs": [
    {
     "name": "stdout",
     "output_type": "stream",
     "text": [
      "-10.555622557558927\n"
     ]
    }
   ],
   "source": [
    "states = [['G', 'G'],['C', 'A'], ['C', 1], ['C', 2], ['A', 4], [3,5], ['A', 6]]\n",
    "print(np.log(likelihood(states, 7)))"
   ]
  },
  {
   "cell_type": "code",
   "execution_count": 203,
   "metadata": {},
   "outputs": [
    {
     "data": {
      "text/plain": [
       "-8.354450743754589"
      ]
     },
     "execution_count": 203,
     "metadata": {},
     "output_type": "execute_result"
    }
   ],
   "source": [
    "np.log(likelihood(posterior_sampled[np.argmax(posterior_ll)], 7))"
   ]
  },
  {
   "cell_type": "code",
   "execution_count": 204,
   "metadata": {},
   "outputs": [
    {
     "data": {
      "text/plain": [
       "[['A', 'A'], ['A', 1], ['C', 'C'], [3, 'C'], ['G', 'G'], [5, 4], [2, 6]]"
      ]
     },
     "execution_count": 204,
     "metadata": {},
     "output_type": "execute_result"
    }
   ],
   "source": [
    "posterior_sampled[np.argmax(posterior_ll)]"
   ]
  },
  {
   "cell_type": "code",
   "execution_count": null,
   "metadata": {},
   "outputs": [],
   "source": [
    "states = [['G', 'G'],['C', 'A'], ['C', 1], ['C', 2], ['A', 4], [3,5], ['A', 6]]"
   ]
  },
  {
   "cell_type": "code",
   "execution_count": 205,
   "metadata": {},
   "outputs": [
    {
     "data": {
      "text/plain": [
       "[0.2, 0.5, 0.6, 0.8, 1.3, 1.9, 2.9]"
      ]
     },
     "execution_count": 205,
     "metadata": {},
     "output_type": "execute_result"
    }
   ],
   "source": [
    "coalescent_times\n",
    "###fix coalescent time, fix tree, simulation the data"
   ]
  },
  {
   "cell_type": "code",
   "execution_count": 213,
   "metadata": {},
   "outputs": [
    {
     "data": {
      "text/plain": [
       "array([[-1.        ,  0.33333333,  0.33333333,  0.33333333],\n",
       "       [ 0.33333333, -1.        ,  0.33333333,  0.33333333],\n",
       "       [ 0.33333333,  0.33333333, -1.        ,  0.33333333],\n",
       "       [ 0.33333333,  0.33333333,  0.33333333, -1.        ]])"
      ]
     },
     "execution_count": 213,
     "metadata": {},
     "output_type": "execute_result"
    }
   ],
   "source": [
    "q"
   ]
  },
  {
   "cell_type": "code",
   "execution_count": 215,
   "metadata": {},
   "outputs": [
    {
     "data": {
      "text/plain": [
       "array([[0.44769785, 0.18410072, 0.18410072, 0.18410072],\n",
       "       [0.18410072, 0.44769785, 0.18410072, 0.18410072],\n",
       "       [0.18410072, 0.18410072, 0.44769785, 0.18410072],\n",
       "       [0.18410072, 0.18410072, 0.18410072, 0.44769785]])"
      ]
     },
     "execution_count": 215,
     "metadata": {},
     "output_type": "execute_result"
    }
   ],
   "source": [
    "Pij(1, evecs, evals,evec_inv)"
   ]
  },
  {
   "cell_type": "markdown",
   "metadata": {},
   "source": [
    "### variational using the prior distance function\n",
    "### using swapping markov chain, (run again or improve time efficiency) TODO..\n",
    "### getting stuck and sampling\n",
    "\n",
    "\n",
    "#### starting about thinking branch length , hmc etc.. (gradients on branch length), marginalized on branch length (variational inference relying on automatic differentiation) another latent layer (one layer is effective population size, one layer is coalescent time)\n",
    "\n",
    "gradient for coalescent time and likelihood\n",
    "biggest problem for HMC, tree is easy to construct. cannot propose to have negative branch length (one proposal increasing decreasing branch length (negative branch length)), parmaterice increment. keep step size of Hamiltonian.\n",
    "\n",
    "problem to compute the gradient, they use estimate of gradient, and improve the estimation. \n",
    "out win a problem that cannot compute the gradient\n",
    "\n",
    "black-box \n",
    "simulated annealling, distance, exponential\n",
    "\n",
    "doing greedy search\n",
    "\n",
    "fixed unlabelled tree, uniformly labelling\n",
    "distribution on = distribution of unlabelled * uniform\n",
    "MCMC (save likelihood and posterior at each iteration)\n"
   ]
  },
  {
   "cell_type": "code",
   "execution_count": 199,
   "metadata": {},
   "outputs": [
    {
     "data": {
      "text/plain": [
       "-10.21916362447655"
      ]
     },
     "execution_count": 199,
     "metadata": {},
     "output_type": "execute_result"
    }
   ],
   "source": [
    "np.log(np.mean(posterior_ll))"
   ]
  },
  {
   "cell_type": "markdown",
   "metadata": {},
   "source": [
    "MCMC()\n",
    "###simulate data from the model, fix one tree, simulate data, compute the likelihood of different trees, hopefully convex function, with a peak on the simulated trees.\n",
    "\n",
    "have a tree, needs to compute transition probability\n",
    "\n",
    "matrix exponential, conditional on time, look at the corresponding row to\n",
    "sample multinomial by row value\n",
    "\n",
    "simulate with a lot of possible mutations (high mutation rate).\n"
   ]
  },
  {
   "cell_type": "code",
   "execution_count": 48,
   "metadata": {},
   "outputs": [
    {
     "name": "stdout",
     "output_type": "stream",
     "text": [
      "[[1], [5], [3]] [[1], [5], [3]]\n",
      "[[1], [5], [3]]\n"
     ]
    }
   ],
   "source": [
    "a = [[1],[2],[3]]\n",
    "b = a.copy()\n",
    "a[1][0]=5\n",
    "c = a.copy()\n",
    "print(b,c)\n",
    "a[1]=6\n",
    "print(c)"
   ]
  },
  {
   "cell_type": "code",
   "execution_count": 311,
   "metadata": {},
   "outputs": [
    {
     "name": "stdout",
     "output_type": "stream",
     "text": [
      "0 1\n",
      "5 A 5\n",
      "not swapped\n",
      "1 0\n",
      "3 1 C\n",
      "swapped\n"
     ]
    }
   ],
   "source": [
    "states = [['G', 'G'],['C', 'A'], ['C', 1], ['C', 2], ['A', 4], [3,5], ['A', 6]]\n",
    "while not markov_chain_forward(7, states):\n",
    "    continue"
   ]
  },
  {
   "cell_type": "code",
   "execution_count": 312,
   "metadata": {},
   "outputs": [
    {
     "data": {
      "text/plain": [
       "[['G', 'G'], ['C', 'A'], ['C', 'C'], [1, 2], ['A', 4], [3, 5], ['A', 6]]"
      ]
     },
     "execution_count": 312,
     "metadata": {},
     "output_type": "execute_result"
    }
   ],
   "source": [
    "states"
   ]
  },
  {
   "cell_type": "code",
   "execution_count": 330,
   "metadata": {},
   "outputs": [
    {
     "data": {
      "text/plain": [
       "264"
      ]
     },
     "execution_count": 330,
     "metadata": {},
     "output_type": "execute_result"
    }
   ],
   "source": [
    "240+24"
   ]
  },
  {
   "cell_type": "code",
   "execution_count": 331,
   "metadata": {},
   "outputs": [
    {
     "data": {
      "text/plain": [
       "396.0"
      ]
     },
     "execution_count": 331,
     "metadata": {},
     "output_type": "execute_result"
    }
   ],
   "source": [
    "264*1.5"
   ]
  },
  {
   "cell_type": "code",
   "execution_count": 332,
   "metadata": {},
   "outputs": [
    {
     "data": {
      "text/plain": [
       "36"
      ]
     },
     "execution_count": 332,
     "metadata": {},
     "output_type": "execute_result"
    }
   ],
   "source": [
    "396-360"
   ]
  },
  {
   "cell_type": "code",
   "execution_count": 333,
   "metadata": {},
   "outputs": [
    {
     "data": {
      "text/plain": [
       "402.0"
      ]
     },
     "execution_count": 333,
     "metadata": {},
     "output_type": "execute_result"
    }
   ],
   "source": [
    "268*1.5"
   ]
  },
  {
   "cell_type": "code",
   "execution_count": 334,
   "metadata": {},
   "outputs": [
    {
     "data": {
      "text/plain": [
       "42"
      ]
     },
     "execution_count": 334,
     "metadata": {},
     "output_type": "execute_result"
    }
   ],
   "source": [
    "402-360"
   ]
  },
  {
   "cell_type": "code",
   "execution_count": 335,
   "metadata": {},
   "outputs": [
    {
     "data": {
      "text/plain": [
       "9.066666666666666"
      ]
     },
     "execution_count": 335,
     "metadata": {},
     "output_type": "execute_result"
    }
   ],
   "source": [
    "13.6/1.5"
   ]
  },
  {
   "cell_type": "code",
   "execution_count": 336,
   "metadata": {},
   "outputs": [
    {
     "data": {
      "text/plain": [
       "2.4727272727272727"
      ]
     },
     "execution_count": 336,
     "metadata": {},
     "output_type": "execute_result"
    }
   ],
   "source": [
    "13.6/5.5"
   ]
  },
  {
   "cell_type": "code",
   "execution_count": 337,
   "metadata": {},
   "outputs": [
    {
     "data": {
      "text/plain": [
       "4.32"
      ]
     },
     "execution_count": 337,
     "metadata": {},
     "output_type": "execute_result"
    }
   ],
   "source": [
    "2.7*1.6"
   ]
  },
  {
   "cell_type": "code",
   "execution_count": 338,
   "metadata": {},
   "outputs": [
    {
     "data": {
      "text/plain": [
       "12.96"
      ]
     },
     "execution_count": 338,
     "metadata": {},
     "output_type": "execute_result"
    }
   ],
   "source": [
    "4.32*3"
   ]
  },
  {
   "cell_type": "code",
   "execution_count": 340,
   "metadata": {},
   "outputs": [
    {
     "data": {
      "text/plain": [
       "18.083571428571428"
      ]
     },
     "execution_count": 340,
     "metadata": {},
     "output_type": "execute_result"
    }
   ],
   "source": [
    "42.195/140*60"
   ]
  },
  {
   "cell_type": "code",
   "execution_count": 341,
   "metadata": {},
   "outputs": [
    {
     "data": {
      "text/plain": [
       "17.25"
      ]
     },
     "execution_count": 341,
     "metadata": {},
     "output_type": "execute_result"
    }
   ],
   "source": [
    "17+15/60"
   ]
  },
  {
   "cell_type": "code",
   "execution_count": 342,
   "metadata": {},
   "outputs": [
    {
     "data": {
      "text/plain": [
       "5.5200000000000005"
      ]
     },
     "execution_count": 342,
     "metadata": {},
     "output_type": "execute_result"
    }
   ],
   "source": [
    "17.25/5*1.6"
   ]
  },
  {
   "cell_type": "code",
   "execution_count": 1,
   "metadata": {},
   "outputs": [],
   "source": [
    "-6+22+32+39+32\n",
    "from math import log"
   ]
  },
  {
   "cell_type": "code",
   "execution_count": 3,
   "metadata": {},
   "outputs": [],
   "source": [
    "def maxt_2(t2a, t2b):\n",
    "    return - log(t2a/t2b)/(1/t2a - 1/t2b)\n",
    "\n",
    "def maxt_1(t1a, t1b):\n",
    "    return -log(t1a/t1b)/(1/t1a - 1/t1b)"
   ]
  },
  {
   "cell_type": "code",
   "execution_count": 4,
   "metadata": {},
   "outputs": [
    {
     "data": {
      "text/plain": [
       "0.09588885027990877"
      ]
     },
     "execution_count": 4,
     "metadata": {},
     "output_type": "execute_result"
    }
   ],
   "source": [
    "maxt_2(92*1e-3, 100*1e-3)"
   ]
  },
  {
   "cell_type": "code",
   "execution_count": 5,
   "metadata": {},
   "outputs": [
    {
     "data": {
      "text/plain": [
       "0.7412134644813827"
      ]
     },
     "execution_count": 5,
     "metadata": {},
     "output_type": "execute_result"
    }
   ],
   "source": [
    "maxt_1(0.68, 0.81)"
   ]
  },
  {
   "cell_type": "code",
   "execution_count": 107,
   "metadata": {},
   "outputs": [
    {
     "data": {
      "text/plain": [
       "range(1, 1)"
      ]
     },
     "execution_count": 107,
     "metadata": {},
     "output_type": "execute_result"
    }
   ],
   "source": [
    "range(1,1)"
   ]
  },
  {
   "cell_type": "code",
   "execution_count": 109,
   "metadata": {},
   "outputs": [],
   "source": [
    "for i in range(-2,-5):\n",
    "    print(i)"
   ]
  },
  {
   "cell_type": "code",
   "execution_count": 110,
   "metadata": {},
   "outputs": [
    {
     "name": "stdout",
     "output_type": "stream",
     "text": [
      "-5\n",
      "-4\n",
      "-3\n",
      "-2\n"
     ]
    }
   ],
   "source": [
    "for j in range(-5,-1):\n",
    "    print(j)"
   ]
  },
  {
   "cell_type": "code",
   "execution_count": 119,
   "metadata": {},
   "outputs": [],
   "source": [
    "def isValidSudoku(board) -> bool:\n",
    "        col_set = [[]]*9\n",
    "        square_set = [[]]*9\n",
    "        for i, row in enumerate(board):\n",
    "            row_set = set()\n",
    "            for j, col in enumerate(row):\n",
    "                if col in row_set or col in col_set[j] or col in square_set[i//3+j//3*3]:\n",
    "                    return False\n",
    "                if col != \".\":\n",
    "                    row_set.add(col)\n",
    "                    col_set[j] = col_set[j]+[col]\n",
    "                    square_set[i//3+j//3*3] += [col]\n",
    "        return True"
   ]
  },
  {
   "cell_type": "code",
   "execution_count": 120,
   "metadata": {},
   "outputs": [],
   "source": [
    "board = [[\"5\",\"3\",\".\",\".\",\"7\",\".\",\".\",\".\",\".\"],[\"6\",\".\",\".\",\"1\",\"9\",\"5\",\".\",\".\",\".\"],[\".\",\"9\",\"8\",\".\",\".\",\".\",\".\",\"6\",\".\"],[\"8\",\".\",\".\",\".\",\"6\",\".\",\".\",\".\",\"3\"],[\"4\",\".\",\".\",\"8\",\".\",\"3\",\".\",\".\",\"1\"],[\"7\",\".\",\".\",\".\",\"2\",\".\",\".\",\".\",\"6\"],[\".\",\"6\",\".\",\".\",\".\",\".\",\"2\",\"8\",\".\"],[\".\",\".\",\".\",\"4\",\"1\",\"9\",\".\",\".\",\"5\"],[\".\",\".\",\".\",\".\",\"8\",\".\",\".\",\"7\",\"9\"]]"
   ]
  },
  {
   "cell_type": "code",
   "execution_count": 121,
   "metadata": {},
   "outputs": [
    {
     "data": {
      "text/plain": [
       "False"
      ]
     },
     "execution_count": 121,
     "metadata": {},
     "output_type": "execute_result"
    }
   ],
   "source": [
    "isValidSudoku(board = board)"
   ]
  },
  {
   "cell_type": "code",
   "execution_count": 116,
   "metadata": {},
   "outputs": [],
   "source": [
    "board2 = [[\"5\",\"3\",\".\",\".\",\"7\",\".\",\".\",\".\",\".\"],[\"6\",\".\",\".\",\"1\",\"9\",\"5\",\".\",\".\",\".\"],[\".\",\"9\",\"8\",\".\",\".\",\".\",\".\",\"6\",\".\"],[\"8\",\".\",\".\",\".\",\"6\",\".\",\".\",\".\",\"3\"],[\"4\",\".\",\".\",\"8\",\".\",\"3\",\".\",\".\",\"1\"],[\"7\",\".\",\".\",\".\",\"2\",\".\",\".\",\".\",\"6\"],[\".\",\"6\",\".\",\".\",\".\",\".\",\"2\",\"8\",\".\"],[\".\",\".\",\".\",\"4\",\"1\",\"9\",\".\",\".\",\"5\"],[\".\",\".\",\".\",\".\",\"8\",\".\",\".\",\"7\",\"9\"]]"
   ]
  },
  {
   "cell_type": "code",
   "execution_count": 117,
   "metadata": {},
   "outputs": [
    {
     "data": {
      "text/plain": [
       "False"
      ]
     },
     "execution_count": 117,
     "metadata": {},
     "output_type": "execute_result"
    }
   ],
   "source": [
    "isValidSudoku(board2)"
   ]
  },
  {
   "cell_type": "code",
   "execution_count": 122,
   "metadata": {},
   "outputs": [
    {
     "data": {
      "text/plain": [
       "[1, 2]"
      ]
     },
     "execution_count": 122,
     "metadata": {},
     "output_type": "execute_result"
    }
   ],
   "source": [
    "[1] + [2]"
   ]
  },
  {
   "cell_type": "code",
   "execution_count": 124,
   "metadata": {},
   "outputs": [
    {
     "data": {
      "text/plain": [
       "5.4528212422949265"
      ]
     },
     "execution_count": 124,
     "metadata": {},
     "output_type": "execute_result"
    }
   ],
   "source": [
    "1/(21.09/(60+55))"
   ]
  },
  {
   "cell_type": "code",
   "execution_count": 125,
   "metadata": {},
   "outputs": [
    {
     "data": {
      "text/plain": [
       "27.168"
      ]
     },
     "execution_count": 125,
     "metadata": {},
     "output_type": "execute_result"
    }
   ],
   "source": [
    "0.4528*60"
   ]
  },
  {
   "cell_type": "code",
   "execution_count": null,
   "metadata": {},
   "outputs": [],
   "source": []
  }
 ],
 "metadata": {
  "kernelspec": {
   "display_name": "Python 3",
   "language": "python",
   "name": "python3"
  },
  "language_info": {
   "codemirror_mode": {
    "name": "ipython",
    "version": 3
   },
   "file_extension": ".py",
   "mimetype": "text/x-python",
   "name": "python",
   "nbconvert_exporter": "python",
   "pygments_lexer": "ipython3",
   "version": "3.6.5"
  }
 },
 "nbformat": 4,
 "nbformat_minor": 5
}
